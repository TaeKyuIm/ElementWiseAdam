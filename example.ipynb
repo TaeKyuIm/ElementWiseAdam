{
 "cells": [
  {
   "cell_type": "code",
   "execution_count": 1,
   "metadata": {},
   "outputs": [],
   "source": [
    "import torch.optim as optim\n",
    "import torch\n",
    "import torch.nn as nn\n",
    "import torch.nn.functional as F"
   ]
  },
  {
   "cell_type": "code",
   "execution_count": 2,
   "metadata": {},
   "outputs": [],
   "source": [
    "class Net(nn.Module):\n",
    "    def __init__(self):\n",
    "        super(Net, self).__init__()\n",
    "        self.fc1 = nn.Linear(2, 3)\n",
    "        self.fc2 = nn.Linear(3, 3)\n",
    "        self.fc3 = nn.Linear(3, 1)\n",
    "    \n",
    "    def forward(self, x):\n",
    "        x = F.relu(self.fc1(x))\n",
    "        x = F.relu(self.fc2(x))\n",
    "        x = self.fc3(x)\n",
    "        \n",
    "        return x"
   ]
  },
  {
   "cell_type": "code",
   "execution_count": 3,
   "metadata": {},
   "outputs": [],
   "source": [
    "net = Net()\n",
    "X = torch.randn(1000, 2)\n",
    "y = torch.randn(1000, 1)"
   ]
  },
  {
   "cell_type": "code",
   "execution_count": 4,
   "metadata": {},
   "outputs": [],
   "source": [
    "torch.save(net.state_dict(), './st.pth')"
   ]
  },
  {
   "cell_type": "code",
   "execution_count": 5,
   "metadata": {},
   "outputs": [
    {
     "name": "stdout",
     "output_type": "stream",
     "text": [
      "torch.Size([3, 2])\n",
      "torch.Size([3])\n",
      "torch.Size([3, 3])\n",
      "torch.Size([3])\n",
      "torch.Size([1, 3])\n",
      "torch.Size([1])\n"
     ]
    }
   ],
   "source": [
    "for p in net.parameters():\n",
    "    print(p.size())"
   ]
  },
  {
   "cell_type": "code",
   "execution_count": 6,
   "metadata": {},
   "outputs": [],
   "source": [
    "filters = [torch.tensor([[1, 2], [1, 1], [1, 1]]), torch.tensor([1, 1, 1]),\n",
    "           torch.tensor([[1, 1, 2], [1, 1, 1], [2, 2, 1]]), torch.tensor([1, 1, 1]),\n",
    "           torch.tensor([[1, 1, 1]]), torch.tensor([1])]"
   ]
  },
  {
   "cell_type": "code",
   "execution_count": 7,
   "metadata": {},
   "outputs": [
    {
     "name": "stdout",
     "output_type": "stream",
     "text": [
      "torch.Size([3, 2])\n",
      "torch.Size([3])\n",
      "torch.Size([3, 3])\n",
      "torch.Size([3])\n",
      "torch.Size([1, 3])\n",
      "torch.Size([1])\n"
     ]
    }
   ],
   "source": [
    "for f in filters:\n",
    "    print(f.size())"
   ]
  },
  {
   "cell_type": "code",
   "execution_count": 8,
   "metadata": {},
   "outputs": [],
   "source": [
    "from ElementwiseAdam import ElementWiseAdam\n",
    "elementadam = ElementWiseAdam(net.parameters(), filters)"
   ]
  },
  {
   "cell_type": "code",
   "execution_count": 9,
   "metadata": {},
   "outputs": [],
   "source": [
    "criterion = nn.MSELoss()"
   ]
  },
  {
   "cell_type": "code",
   "execution_count": 10,
   "metadata": {},
   "outputs": [],
   "source": [
    "loss_history = []\n",
    "for e in range(100):\n",
    "    elementadam.zero_grad()\n",
    "    prediction = net(X)\n",
    "    loss = criterion(prediction, y)\n",
    "    loss_history.append(loss.item())\n",
    "    loss.backward()\n",
    "    elementadam.step()"
   ]
  },
  {
   "cell_type": "code",
   "execution_count": 11,
   "metadata": {},
   "outputs": [
    {
     "data": {
      "text/plain": [
       "<All keys matched successfully>"
      ]
     },
     "execution_count": 11,
     "metadata": {},
     "output_type": "execute_result"
    }
   ],
   "source": [
    "net = Net()\n",
    "net.load_state_dict(torch.load('./st.pth', weights_only=True))"
   ]
  },
  {
   "cell_type": "code",
   "execution_count": 12,
   "metadata": {},
   "outputs": [],
   "source": [
    "adam = optim.Adam(net.parameters())\n",
    "loss_history2 = []\n",
    "for e in range(100):\n",
    "    adam.zero_grad()\n",
    "    prediction = net(X)\n",
    "    loss = criterion(prediction, y)\n",
    "    loss_history2.append(loss.item())\n",
    "    loss.backward()\n",
    "    adam.step()"
   ]
  },
  {
   "cell_type": "code",
   "execution_count": 13,
   "metadata": {},
   "outputs": [
    {
     "data": {
      "text/plain": [
       "[<matplotlib.lines.Line2D at 0x310379a90>]"
      ]
     },
     "execution_count": 13,
     "metadata": {},
     "output_type": "execute_result"
    },
    {
     "data": {
      "image/png": "[encoded data removed]",
      "text/plain": [
       "<Figure size 640x480 with 1 Axes>"
      ]
     },
     "metadata": {},
     "output_type": "display_data"
    }
   ],
   "source": [
    "import matplotlib.pyplot as plt\n",
    "plt.plot(loss_history)\n",
    "plt.plot(loss_history2)"
   ]
  },
  {
   "cell_type": "code",
   "execution_count": 14,
   "metadata": {},
   "outputs": [
    {
     "data": {
      "text/plain": [
       "{0: {'step': tensor(100.),\n",
       "  'exp_avg': tensor([[ 7.5402e-03, -1.5731e-02],\n",
       "          [ 8.9075e-04, -2.8863e-03],\n",
       "          [ 1.2308e-05, -3.5565e-03]]),\n",
       "  'exp_avg_sq': tensor([[1.2469e-05, 1.6098e-05],\n",
       "          [5.7992e-07, 7.9653e-07],\n",
       "          [6.0212e-07, 6.1301e-07]])},\n",
       " 1: {'step': tensor(100.),\n",
       "  'exp_avg': tensor([-0.0010,  0.0002, -0.0018]),\n",
       "  'exp_avg_sq': tensor([5.4368e-05, 2.5456e-07, 1.8265e-06])},\n",
       " 2: {'step': tensor(100.),\n",
       "  'exp_avg': tensor([[ 0.0078,  0.0021,  0.0155],\n",
       "          [-0.0039, -0.0008, -0.0095],\n",
       "          [ 0.0055,  0.0015,  0.0109]]),\n",
       "  'exp_avg_sq': tensor([[7.5401e-05, 3.1654e-07, 1.6652e-04],\n",
       "          [2.8725e-05, 7.6666e-08, 1.0502e-04],\n",
       "          [3.0338e-05, 1.4915e-07, 6.6977e-05]])},\n",
       " 3: {'step': tensor(100.),\n",
       "  'exp_avg': tensor([-0.0286,  0.0155, -0.0201]),\n",
       "  'exp_avg_sq': tensor([0.0006, 0.0003, 0.0003])},\n",
       " 4: {'step': tensor(100.),\n",
       "  'exp_avg': tensor([[0.0285, 0.0363, 0.0203]]),\n",
       "  'exp_avg_sq': tensor([[0.0031, 0.0026, 0.0006]])},\n",
       " 5: {'step': tensor(100.),\n",
       "  'exp_avg': tensor([0.0926]),\n",
       "  'exp_avg_sq': tensor([0.0084])}}"
      ]
     },
     "execution_count": 14,
     "metadata": {},
     "output_type": "execute_result"
    }
   ],
   "source": [
    "adam.state_dict()['state']"
   ]
  },
  {
   "cell_type": "code",
   "execution_count": 15,
   "metadata": {},
   "outputs": [
    {
     "data": {
      "text/plain": [
       "[{'lr': 0.001,\n",
       "  'betas': (0.9, 0.999),\n",
       "  'eps': 1e-08,\n",
       "  'bias_correction': True,\n",
       "  'filters': [tensor([[1, 2],\n",
       "           [1, 1],\n",
       "           [1, 1]]),\n",
       "   tensor([1, 1, 1]),\n",
       "   tensor([[1, 1, 2],\n",
       "           [1, 1, 1],\n",
       "           [2, 2, 1]]),\n",
       "   tensor([1, 1, 1]),\n",
       "   tensor([[1, 1, 1]]),\n",
       "   tensor([1])],\n",
       "  'params': [0, 1, 2, 3, 4, 5]}]"
      ]
     },
     "execution_count": 15,
     "metadata": {},
     "output_type": "execute_result"
    }
   ],
   "source": [
    "elementadam.state_dict()['param_groups']"
   ]
  },
  {
   "cell_type": "code",
   "execution_count": 78,
   "metadata": {},
   "outputs": [
    {
     "data": {
      "text/plain": [
       "[{'lr': 0.001,\n",
       "  'betas': (0.9, 0.999),\n",
       "  'eps': 1e-08,\n",
       "  'weight_decay': 0,\n",
       "  'amsgrad': False,\n",
       "  'maximize': False,\n",
       "  'foreach': None,\n",
       "  'capturable': False,\n",
       "  'differentiable': False,\n",
       "  'fused': None,\n",
       "  'params': [0, 1, 2, 3, 4, 5]}]"
      ]
     },
     "execution_count": 78,
     "metadata": {},
     "output_type": "execute_result"
    }
   ],
   "source": [
    "adam.state_dict()['param_groups']"
   ]
  },
  {
   "cell_type": "code",
   "execution_count": 16,
   "metadata": {},
   "outputs": [],
   "source": [
    "st = adam.state_dict()"
   ]
  },
  {
   "cell_type": "code",
   "execution_count": 18,
   "metadata": {},
   "outputs": [
    {
     "data": {
      "text/plain": [
       "{0: {'step': tensor(100.),\n",
       "  'exp_avg': tensor([[ 7.5402e-03, -1.5731e-02],\n",
       "          [ 8.9075e-04, -2.8863e-03],\n",
       "          [ 1.2308e-05, -3.5565e-03]]),\n",
       "  'exp_avg_sq': tensor([[1.2469e-05, 1.6098e-05],\n",
       "          [5.7992e-07, 7.9653e-07],\n",
       "          [6.0212e-07, 6.1301e-07]])},\n",
       " 1: {'step': tensor(100.),\n",
       "  'exp_avg': tensor([-0.0010,  0.0002, -0.0018]),\n",
       "  'exp_avg_sq': tensor([5.4368e-05, 2.5456e-07, 1.8265e-06])},\n",
       " 2: {'step': tensor(100.),\n",
       "  'exp_avg': tensor([[ 0.0078,  0.0021,  0.0155],\n",
       "          [-0.0039, -0.0008, -0.0095],\n",
       "          [ 0.0055,  0.0015,  0.0109]]),\n",
       "  'exp_avg_sq': tensor([[7.5401e-05, 3.1654e-07, 1.6652e-04],\n",
       "          [2.8725e-05, 7.6666e-08, 1.0502e-04],\n",
       "          [3.0338e-05, 1.4915e-07, 6.6977e-05]])},\n",
       " 3: {'step': tensor(100.),\n",
       "  'exp_avg': tensor([-0.0286,  0.0155, -0.0201]),\n",
       "  'exp_avg_sq': tensor([0.0006, 0.0003, 0.0003])},\n",
       " 4: {'step': tensor(100.),\n",
       "  'exp_avg': tensor([[0.0285, 0.0363, 0.0203]]),\n",
       "  'exp_avg_sq': tensor([[0.0031, 0.0026, 0.0006]])},\n",
       " 5: {'step': tensor(100.),\n",
       "  'exp_avg': tensor([0.0926]),\n",
       "  'exp_avg_sq': tensor([0.0084])}}"
      ]
     },
     "execution_count": 18,
     "metadata": {},
     "output_type": "execute_result"
    }
   ],
   "source": [
    "st['state']"
   ]
  },
  {
   "cell_type": "code",
   "execution_count": 19,
   "metadata": {},
   "outputs": [
    {
     "data": {
      "text/plain": [
       "[{'lr': 0.001,\n",
       "  'betas': (0.9, 0.999),\n",
       "  'eps': 1e-08,\n",
       "  'weight_decay': 0,\n",
       "  'amsgrad': False,\n",
       "  'maximize': False,\n",
       "  'foreach': None,\n",
       "  'capturable': False,\n",
       "  'differentiable': False,\n",
       "  'fused': None,\n",
       "  'params': [0, 1, 2, 3, 4, 5]}]"
      ]
     },
     "execution_count": 19,
     "metadata": {},
     "output_type": "execute_result"
    }
   ],
   "source": [
    "st['param_groups']"
   ]
  },
  {
   "cell_type": "code",
   "execution_count": 20,
   "metadata": {},
   "outputs": [],
   "source": [
    "elementadam.load_state_dict(st, filters=filters)"
   ]
  },
  {
   "cell_type": "code",
   "execution_count": 24,
   "metadata": {},
   "outputs": [
    {
     "data": {
      "text/plain": [
       "{0: {'step': tensor(100.),\n",
       "  'exp_avg': tensor([[ 7.5402e-03, -1.5731e-02],\n",
       "          [ 8.9075e-04, -2.8863e-03],\n",
       "          [ 1.2308e-05, -3.5565e-03]]),\n",
       "  'exp_avg_sq': tensor([[1.2469e-05, 1.6098e-05],\n",
       "          [5.7992e-07, 7.9653e-07],\n",
       "          [6.0212e-07, 6.1301e-07]])},\n",
       " 1: {'step': tensor(100.),\n",
       "  'exp_avg': tensor([-0.0010,  0.0002, -0.0018]),\n",
       "  'exp_avg_sq': tensor([5.4368e-05, 2.5456e-07, 1.8265e-06])},\n",
       " 2: {'step': tensor(100.),\n",
       "  'exp_avg': tensor([[ 0.0078,  0.0021,  0.0155],\n",
       "          [-0.0039, -0.0008, -0.0095],\n",
       "          [ 0.0055,  0.0015,  0.0109]]),\n",
       "  'exp_avg_sq': tensor([[7.5401e-05, 3.1654e-07, 1.6652e-04],\n",
       "          [2.8725e-05, 7.6666e-08, 1.0502e-04],\n",
       "          [3.0338e-05, 1.4915e-07, 6.6977e-05]])},\n",
       " 3: {'step': tensor(100.),\n",
       "  'exp_avg': tensor([-0.0286,  0.0155, -0.0201]),\n",
       "  'exp_avg_sq': tensor([0.0006, 0.0003, 0.0003])},\n",
       " 4: {'step': tensor(100.),\n",
       "  'exp_avg': tensor([[0.0285, 0.0363, 0.0203]]),\n",
       "  'exp_avg_sq': tensor([[0.0031, 0.0026, 0.0006]])},\n",
       " 5: {'step': tensor(100.),\n",
       "  'exp_avg': tensor([0.0926]),\n",
       "  'exp_avg_sq': tensor([0.0084])}}"
      ]
     },
     "execution_count": 24,
     "metadata": {},
     "output_type": "execute_result"
    }
   ],
   "source": [
    "adam.state_dict()['state']"
   ]
  },
  {
   "cell_type": "code",
   "execution_count": 25,
   "metadata": {},
   "outputs": [
    {
     "data": {
      "text/plain": [
       "{0: {'step': tensor(100.),\n",
       "  'exp_avg': tensor([[ 7.5402e-03, -1.5731e-02],\n",
       "          [ 8.9075e-04, -2.8863e-03],\n",
       "          [ 1.2308e-05, -3.5565e-03]]),\n",
       "  'exp_avg_sq': tensor([[1.2469e-05, 1.6098e-05],\n",
       "          [5.7992e-07, 7.9653e-07],\n",
       "          [6.0212e-07, 6.1301e-07]])},\n",
       " 1: {'step': tensor(100.),\n",
       "  'exp_avg': tensor([-0.0010,  0.0002, -0.0018]),\n",
       "  'exp_avg_sq': tensor([5.4368e-05, 2.5456e-07, 1.8265e-06])},\n",
       " 2: {'step': tensor(100.),\n",
       "  'exp_avg': tensor([[ 0.0078,  0.0021,  0.0155],\n",
       "          [-0.0039, -0.0008, -0.0095],\n",
       "          [ 0.0055,  0.0015,  0.0109]]),\n",
       "  'exp_avg_sq': tensor([[7.5401e-05, 3.1654e-07, 1.6652e-04],\n",
       "          [2.8725e-05, 7.6666e-08, 1.0502e-04],\n",
       "          [3.0338e-05, 1.4915e-07, 6.6977e-05]])},\n",
       " 3: {'step': tensor(100.),\n",
       "  'exp_avg': tensor([-0.0286,  0.0155, -0.0201]),\n",
       "  'exp_avg_sq': tensor([0.0006, 0.0003, 0.0003])},\n",
       " 4: {'step': tensor(100.),\n",
       "  'exp_avg': tensor([[0.0285, 0.0363, 0.0203]]),\n",
       "  'exp_avg_sq': tensor([[0.0031, 0.0026, 0.0006]])},\n",
       " 5: {'step': tensor(100.),\n",
       "  'exp_avg': tensor([0.0926]),\n",
       "  'exp_avg_sq': tensor([0.0084])}}"
      ]
     },
     "execution_count": 25,
     "metadata": {},
     "output_type": "execute_result"
    }
   ],
   "source": [
    "elementadam.state_dict()['state']"
   ]
  },
  {
   "cell_type": "code",
   "execution_count": 26,
   "metadata": {},
   "outputs": [
    {
     "data": {
      "text/plain": [
       "[{'lr': 0.001,\n",
       "  'betas': (0.9, 0.999),\n",
       "  'eps': 1e-08,\n",
       "  'weight_decay': 0,\n",
       "  'amsgrad': False,\n",
       "  'maximize': False,\n",
       "  'foreach': None,\n",
       "  'capturable': False,\n",
       "  'differentiable': False,\n",
       "  'fused': None,\n",
       "  'params': [0, 1, 2, 3, 4, 5]}]"
      ]
     },
     "execution_count": 26,
     "metadata": {},
     "output_type": "execute_result"
    }
   ],
   "source": [
    "adam.state_dict()['param_groups']"
   ]
  },
  {
   "cell_type": "code",
   "execution_count": 27,
   "metadata": {},
   "outputs": [
    {
     "data": {
      "text/plain": [
       "[{'lr': 0.001,\n",
       "  'betas': (0.9, 0.999),\n",
       "  'eps': 1e-08,\n",
       "  'weight_decay': 0,\n",
       "  'amsgrad': False,\n",
       "  'maximize': False,\n",
       "  'foreach': None,\n",
       "  'capturable': False,\n",
       "  'differentiable': False,\n",
       "  'fused': None,\n",
       "  'filters': [tensor([[1, 2],\n",
       "           [1, 1],\n",
       "           [1, 1]]),\n",
       "   tensor([1, 1, 1]),\n",
       "   tensor([[1, 1, 2],\n",
       "           [1, 1, 1],\n",
       "           [2, 2, 1]]),\n",
       "   tensor([1, 1, 1]),\n",
       "   tensor([[1, 1, 1]]),\n",
       "   tensor([1])],\n",
       "  'params': [0, 1, 2, 3, 4, 5]}]"
      ]
     },
     "execution_count": 27,
     "metadata": {},
     "output_type": "execute_result"
    }
   ],
   "source": [
    "elementadam.state_dict()['param_groups']"
   ]
  },
  {
   "cell_type": "code",
   "execution_count": 21,
   "metadata": {},
   "outputs": [
    {
     "data": {
      "text/plain": [
       "[{'lr': 0.001,\n",
       "  'betas': (0.9, 0.999),\n",
       "  'eps': 1e-08,\n",
       "  'weight_decay': 0,\n",
       "  'amsgrad': False,\n",
       "  'maximize': False,\n",
       "  'foreach': None,\n",
       "  'capturable': False,\n",
       "  'differentiable': False,\n",
       "  'fused': None,\n",
       "  'params': [Parameter containing:\n",
       "   tensor([[-0.6192, -0.4558],\n",
       "           [-0.1591, -0.3522],\n",
       "           [ 0.6407, -0.6360]], requires_grad=True),\n",
       "   Parameter containing:\n",
       "   tensor([ 0.4442, -0.5695,  0.6616], requires_grad=True),\n",
       "   Parameter containing:\n",
       "   tensor([[ 0.2049,  0.3240,  0.2432],\n",
       "           [-0.5815,  0.5362,  0.3662],\n",
       "           [ 0.0058,  0.2136,  0.1128]], requires_grad=True),\n",
       "   Parameter containing:\n",
       "   tensor([0.5082, 0.5135, 0.3049], requires_grad=True),\n",
       "   Parameter containing:\n",
       "   tensor([[-0.3096,  0.1750, -0.2187]], requires_grad=True),\n",
       "   Parameter containing:\n",
       "   tensor([0.2828], requires_grad=True)],\n",
       "  'filters': [tensor([[1, 2],\n",
       "           [1, 1],\n",
       "           [1, 1]]),\n",
       "   tensor([1, 1, 1]),\n",
       "   tensor([[1, 1, 2],\n",
       "           [1, 1, 1],\n",
       "           [2, 2, 1]]),\n",
       "   tensor([1, 1, 1]),\n",
       "   tensor([[1, 1, 1]]),\n",
       "   tensor([1])]}]"
      ]
     },
     "execution_count": 21,
     "metadata": {},
     "output_type": "execute_result"
    }
   ],
   "source": [
    "elementadam.param_groups"
   ]
  },
  {
   "cell_type": "code",
   "execution_count": 22,
   "metadata": {},
   "outputs": [
    {
     "data": {
      "text/plain": [
       "[{'lr': 0.001,\n",
       "  'betas': (0.9, 0.999),\n",
       "  'eps': 1e-08,\n",
       "  'weight_decay': 0,\n",
       "  'amsgrad': False,\n",
       "  'maximize': False,\n",
       "  'foreach': None,\n",
       "  'capturable': False,\n",
       "  'differentiable': False,\n",
       "  'fused': None,\n",
       "  'filters': [tensor([[1., 1.],\n",
       "           [1., 1.],\n",
       "           [1., 1.]]),\n",
       "   tensor([1., 1., 1.]),\n",
       "   tensor([[1., 1., 1.],\n",
       "           [1., 1., 1.],\n",
       "           [1., 1., 1.]]),\n",
       "   tensor([1., 1., 1.]),\n",
       "   tensor([[1., 1., 1.]]),\n",
       "   tensor([1.])],\n",
       "  'params': [0, 1, 2, 3, 4, 5]}]"
      ]
     },
     "execution_count": 22,
     "metadata": {},
     "output_type": "execute_result"
    }
   ],
   "source": [
    "elementadam.state_dict()['param_groups']"
   ]
  },
  {
   "cell_type": "code",
   "execution_count": 23,
   "metadata": {},
   "outputs": [],
   "source": [
    "elementadam.load_state_dict(st)"
   ]
  },
  {
   "cell_type": "code",
   "execution_count": 24,
   "metadata": {},
   "outputs": [
    {
     "data": {
      "text/plain": [
       "{'state': {0: {'step': tensor(100.),\n",
       "   'exp_avg': tensor([[-0.0020,  0.0010],\n",
       "           [ 0.0066, -0.0044],\n",
       "           [ 0.0087, -0.0014]]),\n",
       "   'exp_avg_sq': tensor([[2.9240e-06, 1.1984e-07],\n",
       "           [5.4722e-06, 1.8231e-06],\n",
       "           [5.5205e-06, 9.4193e-07]])},\n",
       "  1: {'step': tensor(100.),\n",
       "   'exp_avg': tensor([ 0.0014, -0.0044,  0.0016]),\n",
       "   'exp_avg_sq': tensor([1.9182e-06, 1.3342e-05, 1.5293e-06])},\n",
       "  2: {'step': tensor(100.),\n",
       "   'exp_avg': tensor([[ 0.0000,  0.0000,  0.0000],\n",
       "           [-0.0036, -0.0032,  0.0126],\n",
       "           [ 0.0001, -0.0004, -0.0038]]),\n",
       "   'exp_avg_sq': tensor([[0.0000e+00, 0.0000e+00, 0.0000e+00],\n",
       "           [8.6013e-06, 3.6290e-05, 1.2628e-05],\n",
       "           [5.2854e-10, 7.4078e-08, 8.2456e-07]])},\n",
       "  3: {'step': tensor(100.),\n",
       "   'exp_avg': tensor([ 0.0000, -0.0255,  0.0007]),\n",
       "   'exp_avg_sq': tensor([0.0000e+00, 6.1774e-04, 1.4718e-07])},\n",
       "  4: {'step': tensor(100.),\n",
       "   'exp_avg': tensor([[ 0.0000, -0.0209,  0.0056]]),\n",
       "   'exp_avg_sq': tensor([[0.0000e+00, 8.7488e-04, 1.7365e-06]])},\n",
       "  5: {'step': tensor(100.),\n",
       "   'exp_avg': tensor([-0.0509]),\n",
       "   'exp_avg_sq': tensor([0.0029])}},\n",
       " 'param_groups': [{'lr': 0.001,\n",
       "   'betas': (0.9, 0.999),\n",
       "   'eps': 1e-08,\n",
       "   'weight_decay': 0,\n",
       "   'amsgrad': False,\n",
       "   'maximize': False,\n",
       "   'foreach': None,\n",
       "   'capturable': False,\n",
       "   'differentiable': False,\n",
       "   'fused': None,\n",
       "   'filters': [tensor([[1., 1.],\n",
       "            [1., 1.],\n",
       "            [1., 1.]]),\n",
       "    tensor([1., 1., 1.]),\n",
       "    tensor([[1., 1., 1.],\n",
       "            [1., 1., 1.],\n",
       "            [1., 1., 1.]]),\n",
       "    tensor([1., 1., 1.]),\n",
       "    tensor([[1., 1., 1.]]),\n",
       "    tensor([1.])],\n",
       "   'params': [0, 1, 2, 3, 4, 5]}]}"
      ]
     },
     "execution_count": 24,
     "metadata": {},
     "output_type": "execute_result"
    }
   ],
   "source": [
    "elementadam.state_dict()"
   ]
  },
  {
   "cell_type": "code",
   "execution_count": 25,
   "metadata": {},
   "outputs": [
    {
     "name": "stdout",
     "output_type": "stream",
     "text": [
      "Parameter group 0:\n",
      "tensor([[1., 1.],\n",
      "        [1., 1.],\n",
      "        [1., 1.]])\n",
      "tensor([1., 1., 1.])\n",
      "tensor([[1., 1., 1.],\n",
      "        [1., 1., 1.],\n",
      "        [1., 1., 1.]])\n",
      "tensor([1., 1., 1.])\n",
      "tensor([[1., 1., 1.]])\n",
      "tensor([1.])\n"
     ]
    }
   ],
   "source": [
    "# Check filters after loading\n",
    "for idx, group in enumerate(elementadam.param_groups):\n",
    "    print(f\"Parameter group {idx}:\")\n",
    "    for filter_tensor in group['filters']:\n",
    "        print(filter_tensor)  "
   ]
  },
  {
   "cell_type": "code",
   "execution_count": 52,
   "metadata": {},
   "outputs": [
    {
     "data": {
      "text/plain": [
       "1"
      ]
     },
     "execution_count": 52,
     "metadata": {},
     "output_type": "execute_result"
    }
   ],
   "source": [
    "len(elementadam.param_groups)"
   ]
  },
  {
   "cell_type": "code",
   "execution_count": 49,
   "metadata": {},
   "outputs": [
    {
     "data": {
      "text/plain": [
       "[tensor([[1., 1.],\n",
       "         [1., 1.],\n",
       "         [1., 1.]]),\n",
       " tensor([1., 1., 1.]),\n",
       " tensor([[1., 1., 1.],\n",
       "         [1., 1., 1.],\n",
       "         [1., 1., 1.]]),\n",
       " tensor([1., 1., 1.]),\n",
       " tensor([[1., 1., 1.]]),\n",
       " tensor([1.])]"
      ]
     },
     "execution_count": 49,
     "metadata": {},
     "output_type": "execute_result"
    }
   ],
   "source": [
    "elementadam.param_groups[0]['filters']"
   ]
  },
  {
   "cell_type": "code",
   "execution_count": 28,
   "metadata": {},
   "outputs": [
    {
     "name": "stdout",
     "output_type": "stream",
     "text": [
      "{'lr': 0.001, 'betas': (0.9, 0.999), 'eps': 1e-08, 'weight_decay': 0, 'amsgrad': False, 'maximize': False, 'foreach': None, 'capturable': False, 'differentiable': False, 'fused': None, 'params': [Parameter containing:\n",
      "tensor([[-0.2723, -0.1420],\n",
      "        [ 0.0713, -0.1301],\n",
      "        [ 0.6014, -0.1715]], requires_grad=True), Parameter containing:\n",
      "tensor([-0.2024,  0.4612, -0.3235], requires_grad=True), Parameter containing:\n",
      "tensor([[-0.1108, -0.2052, -0.0740],\n",
      "        [-0.0597,  0.2081,  0.4251],\n",
      "        [-0.6518,  0.4975,  0.1347]], requires_grad=True), Parameter containing:\n",
      "tensor([-0.1657,  0.6159, -0.2419], requires_grad=True), Parameter containing:\n",
      "tensor([[-0.4614,  0.5043, -0.1727]], requires_grad=True), Parameter containing:\n",
      "tensor([-0.3873], requires_grad=True)], 'filters': tensor([[1, 2],\n",
      "        [1, 1],\n",
      "        [1, 1]])}\n"
     ]
    }
   ],
   "source": [
    "for group in elementadam.param_groups:\n",
    "    print(group)"
   ]
  },
  {
   "cell_type": "code",
   "execution_count": 55,
   "metadata": {},
   "outputs": [],
   "source": [
    "elementadam.param_groups[0]['filters'] = filters"
   ]
  },
  {
   "cell_type": "code",
   "execution_count": 56,
   "metadata": {},
   "outputs": [
    {
     "data": {
      "text/plain": [
       "[{'lr': 0.001,\n",
       "  'betas': (0.9, 0.999),\n",
       "  'eps': 1e-08,\n",
       "  'weight_decay': 0,\n",
       "  'amsgrad': False,\n",
       "  'maximize': False,\n",
       "  'foreach': None,\n",
       "  'capturable': False,\n",
       "  'differentiable': False,\n",
       "  'fused': None,\n",
       "  'params': [Parameter containing:\n",
       "   tensor([[-0.7239, -0.6920],\n",
       "           [-0.1990,  0.4715],\n",
       "           [-0.5742,  0.5787]], requires_grad=True),\n",
       "   Parameter containing:\n",
       "   tensor([-0.1617, -0.2299,  0.2196], requires_grad=True),\n",
       "   Parameter containing:\n",
       "   tensor([[ 7.9701e-05, -1.1396e-01,  2.4272e-02],\n",
       "           [ 2.9392e-01, -5.9884e-02,  7.4787e-02],\n",
       "           [ 4.2970e-01,  4.3200e-01, -4.4187e-01]], requires_grad=True),\n",
       "   Parameter containing:\n",
       "   tensor([ 0.1641,  0.5122, -0.2619], requires_grad=True),\n",
       "   Parameter containing:\n",
       "   tensor([[-0.3303,  0.6101, -0.1998]], requires_grad=True),\n",
       "   Parameter containing:\n",
       "   tensor([-0.4128], requires_grad=True)],\n",
       "  'filters': [tensor([[1, 2],\n",
       "           [1, 1],\n",
       "           [1, 1]]),\n",
       "   tensor([1, 1, 1]),\n",
       "   tensor([[1, 1, 2],\n",
       "           [1, 1, 1],\n",
       "           [2, 2, 1]]),\n",
       "   tensor([1, 1, 1]),\n",
       "   tensor([[1, 1, 1]]),\n",
       "   tensor([1])]}]"
      ]
     },
     "execution_count": 56,
     "metadata": {},
     "output_type": "execute_result"
    }
   ],
   "source": [
    "elementadam.param_groups"
   ]
  },
  {
   "cell_type": "code",
   "execution_count": 27,
   "metadata": {},
   "outputs": [
    {
     "name": "stdout",
     "output_type": "stream",
     "text": [
      "Parameter group 0:\n",
      "tensor([1, 2])\n",
      "tensor([1, 1])\n",
      "tensor([1, 1])\n"
     ]
    }
   ],
   "source": [
    "for idx, group in enumerate(elementadam.param_groups):\n",
    "    print(f\"Parameter group {idx}:\")\n",
    "    for filter_tensor in group['filters']:\n",
    "        print(filter_tensor)  "
   ]
  },
  {
   "cell_type": "code",
   "execution_count": null,
   "metadata": {},
   "outputs": [],
   "source": []
  }
 ],
 "metadata": {
  "kernelspec": {
   "display_name": "pytorch",
   "language": "python",
   "name": "python3"
  },
  "language_info": {
   "codemirror_mode": {
    "name": "ipython",
    "version": 3
   },
   "file_extension": ".py",
   "mimetype": "text/x-python",
   "name": "python",
   "nbconvert_exporter": "python",
   "pygments_lexer": "ipython3",
   "version": "3.11.6"
  }
 },
 "nbformat": 4,
 "nbformat_minor": 2
}
